{
 "cells": [
  {
   "cell_type": "code",
   "execution_count": 1,
   "metadata": {},
   "outputs": [],
   "source": [
    "import pandas as pd"
   ]
  },
  {
   "cell_type": "code",
   "execution_count": 2,
   "metadata": {},
   "outputs": [
    {
     "data": {
      "text/plain": [
       "'C:\\\\Users\\\\USER'"
      ]
     },
     "execution_count": 2,
     "metadata": {},
     "output_type": "execute_result"
    }
   ],
   "source": [
    "%pwd"
   ]
  },
  {
   "cell_type": "code",
   "execution_count": 3,
   "metadata": {},
   "outputs": [
    {
     "name": "stdout",
     "output_type": "stream",
     "text": [
      "C:\\Users\\USER\\desktop\\python\n"
     ]
    }
   ],
   "source": [
    "%cd desktop\\\\python"
   ]
  },
  {
   "cell_type": "code",
   "execution_count": 4,
   "metadata": {},
   "outputs": [],
   "source": [
    "elec=pd.read_csv('LS2014Electors.csv',sep=',')"
   ]
  },
  {
   "cell_type": "code",
   "execution_count": 5,
   "metadata": {},
   "outputs": [
    {
     "data": {
      "text/html": [
       "<div>\n",
       "<style scoped>\n",
       "    .dataframe tbody tr th:only-of-type {\n",
       "        vertical-align: middle;\n",
       "    }\n",
       "\n",
       "    .dataframe tbody tr th {\n",
       "        vertical-align: top;\n",
       "    }\n",
       "\n",
       "    .dataframe thead th {\n",
       "        text-align: right;\n",
       "    }\n",
       "</style>\n",
       "<table border=\"1\" class=\"dataframe\">\n",
       "  <thead>\n",
       "    <tr style=\"text-align: right;\">\n",
       "      <th></th>\n",
       "      <th>STATE CODE</th>\n",
       "      <th>STATE</th>\n",
       "      <th>PC NO</th>\n",
       "      <th>PARLIAMENTARY CONSTITUENCY</th>\n",
       "      <th>Total voters</th>\n",
       "      <th>Total_Electors</th>\n",
       "      <th>POLL PERCENTAGE</th>\n",
       "    </tr>\n",
       "  </thead>\n",
       "  <tbody>\n",
       "    <tr>\n",
       "      <th>0</th>\n",
       "      <td>S01</td>\n",
       "      <td>Andhra Pradesh</td>\n",
       "      <td>1</td>\n",
       "      <td>Adilabad</td>\n",
       "      <td>1055593</td>\n",
       "      <td>1386282</td>\n",
       "      <td>76.15</td>\n",
       "    </tr>\n",
       "    <tr>\n",
       "      <th>1</th>\n",
       "      <td>S01</td>\n",
       "      <td>Andhra Pradesh</td>\n",
       "      <td>2</td>\n",
       "      <td>Peddapalle</td>\n",
       "      <td>1025194</td>\n",
       "      <td>1425355</td>\n",
       "      <td>71.93</td>\n",
       "    </tr>\n",
       "    <tr>\n",
       "      <th>2</th>\n",
       "      <td>S01</td>\n",
       "      <td>Andhra Pradesh</td>\n",
       "      <td>3</td>\n",
       "      <td>Karimnagar</td>\n",
       "      <td>1127225</td>\n",
       "      <td>1550810</td>\n",
       "      <td>72.69</td>\n",
       "    </tr>\n",
       "    <tr>\n",
       "      <th>3</th>\n",
       "      <td>S01</td>\n",
       "      <td>Andhra Pradesh</td>\n",
       "      <td>4</td>\n",
       "      <td>Nizamabad</td>\n",
       "      <td>1034032</td>\n",
       "      <td>1496193</td>\n",
       "      <td>69.11</td>\n",
       "    </tr>\n",
       "    <tr>\n",
       "      <th>4</th>\n",
       "      <td>S01</td>\n",
       "      <td>Andhra Pradesh</td>\n",
       "      <td>5</td>\n",
       "      <td>Zahirabad</td>\n",
       "      <td>1099784</td>\n",
       "      <td>1445354</td>\n",
       "      <td>76.09</td>\n",
       "    </tr>\n",
       "  </tbody>\n",
       "</table>\n",
       "</div>"
      ],
      "text/plain": [
       "  STATE CODE           STATE  PC NO PARLIAMENTARY CONSTITUENCY  Total voters  \\\n",
       "0        S01  Andhra Pradesh      1                  Adilabad        1055593   \n",
       "1        S01  Andhra Pradesh      2                Peddapalle        1025194   \n",
       "2        S01  Andhra Pradesh      3                Karimnagar        1127225   \n",
       "3        S01  Andhra Pradesh      4                  Nizamabad       1034032   \n",
       "4        S01  Andhra Pradesh      5                  Zahirabad       1099784   \n",
       "\n",
       "   Total_Electors  POLL PERCENTAGE  \n",
       "0         1386282            76.15  \n",
       "1         1425355            71.93  \n",
       "2         1550810            72.69  \n",
       "3         1496193            69.11  \n",
       "4         1445354            76.09  "
      ]
     },
     "execution_count": 5,
     "metadata": {},
     "output_type": "execute_result"
    }
   ],
   "source": [
    "elec.head()"
   ]
  },
  {
   "cell_type": "code",
   "execution_count": 6,
   "metadata": {},
   "outputs": [
    {
     "data": {
      "text/html": [
       "<div>\n",
       "<style scoped>\n",
       "    .dataframe tbody tr th:only-of-type {\n",
       "        vertical-align: middle;\n",
       "    }\n",
       "\n",
       "    .dataframe tbody tr th {\n",
       "        vertical-align: top;\n",
       "    }\n",
       "\n",
       "    .dataframe thead th {\n",
       "        text-align: right;\n",
       "    }\n",
       "</style>\n",
       "<table border=\"1\" class=\"dataframe\">\n",
       "  <thead>\n",
       "    <tr style=\"text-align: right;\">\n",
       "      <th></th>\n",
       "      <th>STATE CODE</th>\n",
       "      <th>STATE</th>\n",
       "      <th>PC NO</th>\n",
       "      <th>PARLIAMENTARY CONSTITUENCY</th>\n",
       "      <th>Total voters</th>\n",
       "      <th>Total_Electors</th>\n",
       "      <th>POLL PERCENTAGE</th>\n",
       "    </tr>\n",
       "  </thead>\n",
       "  <tbody>\n",
       "    <tr>\n",
       "      <th>538</th>\n",
       "      <td>U05</td>\n",
       "      <td>NCT OF Delhi</td>\n",
       "      <td>5</td>\n",
       "      <td>NORTH WEST DELHI</td>\n",
       "      <td>1356404</td>\n",
       "      <td>2194343</td>\n",
       "      <td>61.81</td>\n",
       "    </tr>\n",
       "    <tr>\n",
       "      <th>539</th>\n",
       "      <td>U05</td>\n",
       "      <td>NCT OF Delhi</td>\n",
       "      <td>6</td>\n",
       "      <td>WEST DELHI</td>\n",
       "      <td>1348744</td>\n",
       "      <td>2039410</td>\n",
       "      <td>66.13</td>\n",
       "    </tr>\n",
       "    <tr>\n",
       "      <th>540</th>\n",
       "      <td>U05</td>\n",
       "      <td>NCT OF Delhi</td>\n",
       "      <td>7</td>\n",
       "      <td>SOUTH DELHI</td>\n",
       "      <td>1102849</td>\n",
       "      <td>1752748</td>\n",
       "      <td>62.92</td>\n",
       "    </tr>\n",
       "    <tr>\n",
       "      <th>541</th>\n",
       "      <td>U06</td>\n",
       "      <td>Lakshadweep</td>\n",
       "      <td>1</td>\n",
       "      <td>Lakshadweep</td>\n",
       "      <td>43242</td>\n",
       "      <td>49922</td>\n",
       "      <td>86.62</td>\n",
       "    </tr>\n",
       "    <tr>\n",
       "      <th>542</th>\n",
       "      <td>U07</td>\n",
       "      <td>Puducherry</td>\n",
       "      <td>1</td>\n",
       "      <td>Puducherry</td>\n",
       "      <td>740053</td>\n",
       "      <td>901357</td>\n",
       "      <td>82.10</td>\n",
       "    </tr>\n",
       "  </tbody>\n",
       "</table>\n",
       "</div>"
      ],
      "text/plain": [
       "    STATE CODE         STATE  PC NO      PARLIAMENTARY CONSTITUENCY  \\\n",
       "538        U05  NCT OF Delhi      5  NORTH WEST DELHI                 \n",
       "539        U05  NCT OF Delhi      6  WEST DELHI                       \n",
       "540        U05  NCT OF Delhi      7  SOUTH DELHI                      \n",
       "541        U06   Lakshadweep      1                     Lakshadweep   \n",
       "542        U07    Puducherry      1                      Puducherry   \n",
       "\n",
       "     Total voters  Total_Electors  POLL PERCENTAGE  \n",
       "538       1356404         2194343            61.81  \n",
       "539       1348744         2039410            66.13  \n",
       "540       1102849         1752748            62.92  \n",
       "541         43242           49922            86.62  \n",
       "542        740053          901357            82.10  "
      ]
     },
     "execution_count": 6,
     "metadata": {},
     "output_type": "execute_result"
    }
   ],
   "source": [
    "elec.tail()"
   ]
  },
  {
   "cell_type": "code",
   "execution_count": 7,
   "metadata": {},
   "outputs": [
    {
     "data": {
      "text/plain": [
       "(543, 7)"
      ]
     },
     "execution_count": 7,
     "metadata": {},
     "output_type": "execute_result"
    }
   ],
   "source": [
    "elec.shape"
   ]
  },
  {
   "cell_type": "code",
   "execution_count": 8,
   "metadata": {},
   "outputs": [
    {
     "name": "stdout",
     "output_type": "stream",
     "text": [
      "<class 'pandas.core.frame.DataFrame'>\n",
      "RangeIndex: 543 entries, 0 to 542\n",
      "Data columns (total 7 columns):\n",
      "STATE CODE                    543 non-null object\n",
      "STATE                         543 non-null object\n",
      "PC NO                         543 non-null int64\n",
      "PARLIAMENTARY CONSTITUENCY    543 non-null object\n",
      "Total voters                  543 non-null int64\n",
      "Total_Electors                543 non-null int64\n",
      "POLL PERCENTAGE               543 non-null float64\n",
      "dtypes: float64(1), int64(3), object(3)\n",
      "memory usage: 29.8+ KB\n"
     ]
    }
   ],
   "source": [
    "elec.info()"
   ]
  },
  {
   "cell_type": "code",
   "execution_count": 9,
   "metadata": {},
   "outputs": [
    {
     "data": {
      "text/html": [
       "<div>\n",
       "<style scoped>\n",
       "    .dataframe tbody tr th:only-of-type {\n",
       "        vertical-align: middle;\n",
       "    }\n",
       "\n",
       "    .dataframe tbody tr th {\n",
       "        vertical-align: top;\n",
       "    }\n",
       "\n",
       "    .dataframe thead th {\n",
       "        text-align: right;\n",
       "    }\n",
       "</style>\n",
       "<table border=\"1\" class=\"dataframe\">\n",
       "  <thead>\n",
       "    <tr style=\"text-align: right;\">\n",
       "      <th></th>\n",
       "      <th>PC NO</th>\n",
       "      <th>Total voters</th>\n",
       "      <th>Total_Electors</th>\n",
       "      <th>POLL PERCENTAGE</th>\n",
       "    </tr>\n",
       "  </thead>\n",
       "  <tbody>\n",
       "    <tr>\n",
       "      <th>count</th>\n",
       "      <td>543.000000</td>\n",
       "      <td>5.430000e+02</td>\n",
       "      <td>5.430000e+02</td>\n",
       "      <td>543.000000</td>\n",
       "    </tr>\n",
       "    <tr>\n",
       "      <th>mean</th>\n",
       "      <td>18.968692</td>\n",
       "      <td>1.020581e+06</td>\n",
       "      <td>1.536064e+06</td>\n",
       "      <td>67.319816</td>\n",
       "    </tr>\n",
       "    <tr>\n",
       "      <th>std</th>\n",
       "      <td>16.560438</td>\n",
       "      <td>1.929034e+05</td>\n",
       "      <td>2.881144e+05</td>\n",
       "      <td>10.316871</td>\n",
       "    </tr>\n",
       "    <tr>\n",
       "      <th>min</th>\n",
       "      <td>1.000000</td>\n",
       "      <td>4.324200e+04</td>\n",
       "      <td>4.992200e+04</td>\n",
       "      <td>25.860000</td>\n",
       "    </tr>\n",
       "    <tr>\n",
       "      <th>25%</th>\n",
       "      <td>6.000000</td>\n",
       "      <td>9.405790e+05</td>\n",
       "      <td>1.425049e+06</td>\n",
       "      <td>59.285000</td>\n",
       "    </tr>\n",
       "    <tr>\n",
       "      <th>50%</th>\n",
       "      <td>15.000000</td>\n",
       "      <td>1.034032e+06</td>\n",
       "      <td>1.555781e+06</td>\n",
       "      <td>66.750000</td>\n",
       "    </tr>\n",
       "    <tr>\n",
       "      <th>75%</th>\n",
       "      <td>27.000000</td>\n",
       "      <td>1.130322e+06</td>\n",
       "      <td>1.694062e+06</td>\n",
       "      <td>75.825000</td>\n",
       "    </tr>\n",
       "    <tr>\n",
       "      <th>max</th>\n",
       "      <td>80.000000</td>\n",
       "      <td>1.624859e+06</td>\n",
       "      <td>3.183083e+06</td>\n",
       "      <td>88.360000</td>\n",
       "    </tr>\n",
       "  </tbody>\n",
       "</table>\n",
       "</div>"
      ],
      "text/plain": [
       "            PC NO  Total voters  Total_Electors  POLL PERCENTAGE\n",
       "count  543.000000  5.430000e+02    5.430000e+02       543.000000\n",
       "mean    18.968692  1.020581e+06    1.536064e+06        67.319816\n",
       "std     16.560438  1.929034e+05    2.881144e+05        10.316871\n",
       "min      1.000000  4.324200e+04    4.992200e+04        25.860000\n",
       "25%      6.000000  9.405790e+05    1.425049e+06        59.285000\n",
       "50%     15.000000  1.034032e+06    1.555781e+06        66.750000\n",
       "75%     27.000000  1.130322e+06    1.694062e+06        75.825000\n",
       "max     80.000000  1.624859e+06    3.183083e+06        88.360000"
      ]
     },
     "execution_count": 9,
     "metadata": {},
     "output_type": "execute_result"
    }
   ],
   "source": [
    "elec.describe()"
   ]
  },
  {
   "cell_type": "code",
   "execution_count": 10,
   "metadata": {},
   "outputs": [
    {
     "data": {
      "text/plain": [
       "RangeIndex(start=0, stop=543, step=1)"
      ]
     },
     "execution_count": 10,
     "metadata": {},
     "output_type": "execute_result"
    }
   ],
   "source": [
    "elec.index"
   ]
  },
  {
   "cell_type": "code",
   "execution_count": 11,
   "metadata": {},
   "outputs": [
    {
     "data": {
      "text/plain": [
       "Uttar Pradesh                80\n",
       "Maharashtra                  48\n",
       "Andhra Pradesh               42\n",
       "West Bengal                  42\n",
       "Bihar                        40\n",
       "Tamil Nadu                   39\n",
       "Madhya Pradesh               29\n",
       "Karnataka                    28\n",
       "Gujarat                      26\n",
       "Rajasthan                    25\n",
       "Odisha                       21\n",
       "Kerala                       20\n",
       "Assam                        14\n",
       "Jharkhand                    14\n",
       "Punjab                       13\n",
       "Chhattisgarh                 11\n",
       "Haryana                      10\n",
       "NCT OF Delhi                  7\n",
       "Jammu & Kashmir               6\n",
       "Uttarakhand                   5\n",
       "Himachal Pradesh              4\n",
       "Manipur                       2\n",
       "Arunachal Pradesh             2\n",
       "Goa                           2\n",
       "Tripura                       2\n",
       "Meghalaya                     2\n",
       "Sikkim                        1\n",
       "Chandigarh                    1\n",
       "Lakshadweep                   1\n",
       "Daman & Diu                   1\n",
       "Puducherry                    1\n",
       "Nagaland                      1\n",
       "Andaman & Nicobar Islands     1\n",
       "Mizoram                       1\n",
       "Dadra & Nagar Haveli          1\n",
       "Name: STATE, dtype: int64"
      ]
     },
     "execution_count": 11,
     "metadata": {},
     "output_type": "execute_result"
    }
   ],
   "source": [
    "elec['STATE'].value_counts()"
   ]
  },
  {
   "cell_type": "code",
   "execution_count": 12,
   "metadata": {},
   "outputs": [
    {
     "data": {
      "text/plain": [
       "count               543\n",
       "unique               35\n",
       "top       Uttar Pradesh\n",
       "freq                 80\n",
       "Name: STATE, dtype: object"
      ]
     },
     "execution_count": 12,
     "metadata": {},
     "output_type": "execute_result"
    }
   ],
   "source": [
    "elec['STATE'].describe()"
   ]
  },
  {
   "cell_type": "code",
   "execution_count": 13,
   "metadata": {},
   "outputs": [
    {
     "data": {
      "text/plain": [
       "80"
      ]
     },
     "execution_count": 13,
     "metadata": {},
     "output_type": "execute_result"
    }
   ],
   "source": [
    "elec['STATE'].value_counts().max()"
   ]
  },
  {
   "cell_type": "code",
   "execution_count": 14,
   "metadata": {},
   "outputs": [
    {
     "data": {
      "text/plain": [
       "count          543\n",
       "unique         540\n",
       "top       Hamirpur\n",
       "freq             2\n",
       "Name: PARLIAMENTARY CONSTITUENCY, dtype: object"
      ]
     },
     "execution_count": 14,
     "metadata": {},
     "output_type": "execute_result"
    }
   ],
   "source": [
    "elec['PARLIAMENTARY CONSTITUENCY'].describe()"
   ]
  },
  {
   "cell_type": "code",
   "execution_count": 15,
   "metadata": {},
   "outputs": [
    {
     "data": {
      "text/plain": [
       "1     35\n",
       "2     26\n",
       "3     21\n",
       "4     21\n",
       "5     20\n",
       "6     19\n",
       "7     18\n",
       "9     17\n",
       "10    17\n",
       "8     17\n",
       "11    16\n",
       "12    15\n",
       "13    15\n",
       "14    14\n",
       "17    12\n",
       "20    12\n",
       "18    12\n",
       "19    12\n",
       "16    12\n",
       "15    12\n",
       "21    11\n",
       "22    10\n",
       "23    10\n",
       "24    10\n",
       "25    10\n",
       "26     9\n",
       "27     8\n",
       "28     8\n",
       "29     7\n",
       "39     6\n",
       "      ..\n",
       "66     1\n",
       "67     1\n",
       "68     1\n",
       "69     1\n",
       "70     1\n",
       "75     1\n",
       "72     1\n",
       "73     1\n",
       "74     1\n",
       "64     1\n",
       "76     1\n",
       "77     1\n",
       "78     1\n",
       "65     1\n",
       "60     1\n",
       "63     1\n",
       "62     1\n",
       "61     1\n",
       "59     1\n",
       "58     1\n",
       "57     1\n",
       "56     1\n",
       "55     1\n",
       "54     1\n",
       "53     1\n",
       "52     1\n",
       "51     1\n",
       "50     1\n",
       "49     1\n",
       "80     1\n",
       "Name: PC NO, Length: 80, dtype: int64"
      ]
     },
     "execution_count": 15,
     "metadata": {},
     "output_type": "execute_result"
    }
   ],
   "source": []
  },
  {
   "cell_type": "code",
   "execution_count": 16,
   "metadata": {},
   "outputs": [
    {
     "data": {
      "text/plain": [
       "Index(['STATE CODE', 'STATE', 'PC NO', 'PARLIAMENTARY CONSTITUENCY',\n",
       "       'Total voters', 'Total_Electors', 'POLL PERCENTAGE'],\n",
       "      dtype='object')"
      ]
     },
     "execution_count": 16,
     "metadata": {},
     "output_type": "execute_result"
    }
   ],
   "source": [
    "elec.columns"
   ]
  },
  {
   "cell_type": "code",
   "execution_count": 17,
   "metadata": {},
   "outputs": [],
   "source": [
    "elec.columns=['STATE_CODE', 'STATE', 'PC_NO', 'CONSTITUENCY',\n",
    "       'Total_voters', 'Total_Electors', 'POLL_PERCENTAGE']"
   ]
  },
  {
   "cell_type": "code",
   "execution_count": 18,
   "metadata": {},
   "outputs": [
    {
     "data": {
      "text/html": [
       "<div>\n",
       "<style scoped>\n",
       "    .dataframe tbody tr th:only-of-type {\n",
       "        vertical-align: middle;\n",
       "    }\n",
       "\n",
       "    .dataframe tbody tr th {\n",
       "        vertical-align: top;\n",
       "    }\n",
       "\n",
       "    .dataframe thead th {\n",
       "        text-align: right;\n",
       "    }\n",
       "</style>\n",
       "<table border=\"1\" class=\"dataframe\">\n",
       "  <thead>\n",
       "    <tr style=\"text-align: right;\">\n",
       "      <th></th>\n",
       "      <th>STATE_CODE</th>\n",
       "      <th>STATE</th>\n",
       "      <th>PC_NO</th>\n",
       "      <th>CONSTITUENCY</th>\n",
       "      <th>Total_voters</th>\n",
       "      <th>Total_Electors</th>\n",
       "      <th>POLL_PERCENTAGE</th>\n",
       "    </tr>\n",
       "  </thead>\n",
       "  <tbody>\n",
       "    <tr>\n",
       "      <th>31</th>\n",
       "      <td>S01</td>\n",
       "      <td>Andhra Pradesh</td>\n",
       "      <td>32</td>\n",
       "      <td>Bapatla</td>\n",
       "      <td>1186250</td>\n",
       "      <td>1392964</td>\n",
       "      <td>85.16</td>\n",
       "    </tr>\n",
       "    <tr>\n",
       "      <th>47</th>\n",
       "      <td>S03</td>\n",
       "      <td>Assam</td>\n",
       "      <td>4</td>\n",
       "      <td>Dhubri</td>\n",
       "      <td>1369722</td>\n",
       "      <td>1550166</td>\n",
       "      <td>88.36</td>\n",
       "    </tr>\n",
       "    <tr>\n",
       "      <th>276</th>\n",
       "      <td>S17</td>\n",
       "      <td>Nagaland</td>\n",
       "      <td>1</td>\n",
       "      <td>Nagaland</td>\n",
       "      <td>1039962</td>\n",
       "      <td>1182972</td>\n",
       "      <td>87.91</td>\n",
       "    </tr>\n",
       "    <tr>\n",
       "      <th>376</th>\n",
       "      <td>S23</td>\n",
       "      <td>Tripura</td>\n",
       "      <td>1</td>\n",
       "      <td>Tripura West</td>\n",
       "      <td>1075932</td>\n",
       "      <td>1248546</td>\n",
       "      <td>86.17</td>\n",
       "    </tr>\n",
       "    <tr>\n",
       "      <th>460</th>\n",
       "      <td>S25</td>\n",
       "      <td>West Bengal</td>\n",
       "      <td>3</td>\n",
       "      <td>Jalpaiguri</td>\n",
       "      <td>1304280</td>\n",
       "      <td>1531469</td>\n",
       "      <td>85.17</td>\n",
       "    </tr>\n",
       "    <tr>\n",
       "      <th>468</th>\n",
       "      <td>S25</td>\n",
       "      <td>West Bengal</td>\n",
       "      <td>11</td>\n",
       "      <td>Murshidabad</td>\n",
       "      <td>1288578</td>\n",
       "      <td>1512098</td>\n",
       "      <td>85.22</td>\n",
       "    </tr>\n",
       "    <tr>\n",
       "      <th>475</th>\n",
       "      <td>S25</td>\n",
       "      <td>West Bengal</td>\n",
       "      <td>18</td>\n",
       "      <td>Basirhat</td>\n",
       "      <td>1274085</td>\n",
       "      <td>1490596</td>\n",
       "      <td>85.47</td>\n",
       "    </tr>\n",
       "    <tr>\n",
       "      <th>477</th>\n",
       "      <td>S25</td>\n",
       "      <td>West Bengal</td>\n",
       "      <td>20</td>\n",
       "      <td>Mathurapur</td>\n",
       "      <td>1271208</td>\n",
       "      <td>1488785</td>\n",
       "      <td>85.39</td>\n",
       "    </tr>\n",
       "    <tr>\n",
       "      <th>486</th>\n",
       "      <td>S25</td>\n",
       "      <td>West Bengal</td>\n",
       "      <td>29</td>\n",
       "      <td>Arambagh</td>\n",
       "      <td>1362848</td>\n",
       "      <td>1600293</td>\n",
       "      <td>85.16</td>\n",
       "    </tr>\n",
       "    <tr>\n",
       "      <th>487</th>\n",
       "      <td>S25</td>\n",
       "      <td>West Bengal</td>\n",
       "      <td>30</td>\n",
       "      <td>Tamluk</td>\n",
       "      <td>1338336</td>\n",
       "      <td>1527273</td>\n",
       "      <td>87.63</td>\n",
       "    </tr>\n",
       "    <tr>\n",
       "      <th>488</th>\n",
       "      <td>S25</td>\n",
       "      <td>West Bengal</td>\n",
       "      <td>31</td>\n",
       "      <td>Kanthi</td>\n",
       "      <td>1292373</td>\n",
       "      <td>1490409</td>\n",
       "      <td>86.71</td>\n",
       "    </tr>\n",
       "    <tr>\n",
       "      <th>490</th>\n",
       "      <td>S25</td>\n",
       "      <td>West Bengal</td>\n",
       "      <td>33</td>\n",
       "      <td>Jhargram</td>\n",
       "      <td>1257645</td>\n",
       "      <td>1475112</td>\n",
       "      <td>85.26</td>\n",
       "    </tr>\n",
       "    <tr>\n",
       "      <th>494</th>\n",
       "      <td>S25</td>\n",
       "      <td>West Bengal</td>\n",
       "      <td>37</td>\n",
       "      <td>Bishnupur</td>\n",
       "      <td>1272099</td>\n",
       "      <td>1466921</td>\n",
       "      <td>86.72</td>\n",
       "    </tr>\n",
       "    <tr>\n",
       "      <th>495</th>\n",
       "      <td>S25</td>\n",
       "      <td>West Bengal</td>\n",
       "      <td>38</td>\n",
       "      <td>Bardhaman Purba</td>\n",
       "      <td>1321140</td>\n",
       "      <td>1532244</td>\n",
       "      <td>86.22</td>\n",
       "    </tr>\n",
       "    <tr>\n",
       "      <th>499</th>\n",
       "      <td>S25</td>\n",
       "      <td>West Bengal</td>\n",
       "      <td>42</td>\n",
       "      <td>Birbhum</td>\n",
       "      <td>1275948</td>\n",
       "      <td>1495089</td>\n",
       "      <td>85.34</td>\n",
       "    </tr>\n",
       "    <tr>\n",
       "      <th>541</th>\n",
       "      <td>U06</td>\n",
       "      <td>Lakshadweep</td>\n",
       "      <td>1</td>\n",
       "      <td>Lakshadweep</td>\n",
       "      <td>43242</td>\n",
       "      <td>49922</td>\n",
       "      <td>86.62</td>\n",
       "    </tr>\n",
       "  </tbody>\n",
       "</table>\n",
       "</div>"
      ],
      "text/plain": [
       "    STATE_CODE           STATE  PC_NO     CONSTITUENCY  Total_voters  \\\n",
       "31         S01  Andhra Pradesh     32         Bapatla        1186250   \n",
       "47         S03           Assam      4           Dhubri       1369722   \n",
       "276        S17        Nagaland      1         Nagaland       1039962   \n",
       "376        S23         Tripura      1     Tripura West       1075932   \n",
       "460        S25     West Bengal      3       Jalpaiguri       1304280   \n",
       "468        S25     West Bengal     11      Murshidabad       1288578   \n",
       "475        S25     West Bengal     18         Basirhat       1274085   \n",
       "477        S25     West Bengal     20       Mathurapur       1271208   \n",
       "486        S25     West Bengal     29         Arambagh       1362848   \n",
       "487        S25     West Bengal     30           Tamluk       1338336   \n",
       "488        S25     West Bengal     31           Kanthi       1292373   \n",
       "490        S25     West Bengal     33         Jhargram       1257645   \n",
       "494        S25     West Bengal     37        Bishnupur       1272099   \n",
       "495        S25     West Bengal     38  Bardhaman Purba       1321140   \n",
       "499        S25     West Bengal     42          Birbhum       1275948   \n",
       "541        U06     Lakshadweep      1      Lakshadweep         43242   \n",
       "\n",
       "     Total_Electors  POLL_PERCENTAGE  \n",
       "31          1392964            85.16  \n",
       "47          1550166            88.36  \n",
       "276         1182972            87.91  \n",
       "376         1248546            86.17  \n",
       "460         1531469            85.17  \n",
       "468         1512098            85.22  \n",
       "475         1490596            85.47  \n",
       "477         1488785            85.39  \n",
       "486         1600293            85.16  \n",
       "487         1527273            87.63  \n",
       "488         1490409            86.71  \n",
       "490         1475112            85.26  \n",
       "494         1466921            86.72  \n",
       "495         1532244            86.22  \n",
       "499         1495089            85.34  \n",
       "541           49922            86.62  "
      ]
     },
     "execution_count": 18,
     "metadata": {},
     "output_type": "execute_result"
    }
   ],
   "source": [
    "elec[elec.POLL_PERCENTAGE>85]"
   ]
  },
  {
   "cell_type": "code",
   "execution_count": 19,
   "metadata": {},
   "outputs": [
    {
     "data": {
      "text/plain": [
       "West Bengal       11\n",
       "Assam              1\n",
       "Nagaland           1\n",
       "Andhra Pradesh     1\n",
       "Lakshadweep        1\n",
       "Tripura            1\n",
       "Name: STATE, dtype: int64"
      ]
     },
     "execution_count": 19,
     "metadata": {},
     "output_type": "execute_result"
    }
   ],
   "source": [
    "elec['STATE'] [elec.POLL_PERCENTAGE>85] .value_counts()"
   ]
  },
  {
   "cell_type": "code",
   "execution_count": 20,
   "metadata": {},
   "outputs": [
    {
     "data": {
      "text/plain": [
       "NCT OF Delhi      2\n",
       "Andhra Pradesh    2\n",
       "Karnataka         2\n",
       "Uttar Pradesh     2\n",
       "Maharashtra       1\n",
       "Madhya Pradesh    1\n",
       "Name: STATE, dtype: int64"
      ]
     },
     "execution_count": 20,
     "metadata": {},
     "output_type": "execute_result"
    }
   ],
   "source": [
    "elec['STATE'][elec.Total_Electors>2000000].value_counts()"
   ]
  },
  {
   "cell_type": "code",
   "execution_count": 21,
   "metadata": {},
   "outputs": [
    {
     "data": {
      "text/plain": [
       "Jammu & Kashmir    2\n",
       "Name: STATE, dtype: int64"
      ]
     },
     "execution_count": 21,
     "metadata": {},
     "output_type": "execute_result"
    }
   ],
   "source": [
    "elec['STATE'] [elec.POLL_PERCENTAGE<30] .value_counts()"
   ]
  },
  {
   "cell_type": "code",
   "execution_count": 22,
   "metadata": {},
   "outputs": [
    {
     "data": {
      "text/plain": [
       "141    Jammu & Kashmir\n",
       "142    Jammu & Kashmir\n",
       "Name: STATE, dtype: object"
      ]
     },
     "execution_count": 22,
     "metadata": {},
     "output_type": "execute_result"
    }
   ],
   "source": [
    "elec['STATE'] [elec.POLL_PERCENTAGE<30]"
   ]
  },
  {
   "cell_type": "code",
   "execution_count": 23,
   "metadata": {},
   "outputs": [
    {
     "data": {
      "text/plain": [
       "STATE              Jammu & Kashmir\n",
       "POLL_PERCENTAGE              25.86\n",
       "dtype: object"
      ]
     },
     "execution_count": 23,
     "metadata": {},
     "output_type": "execute_result"
    }
   ],
   "source": [
    "elec[['STATE','POLL_PERCENTAGE']] [elec.POLL_PERCENTAGE<30].min()"
   ]
  },
  {
   "cell_type": "code",
   "execution_count": 24,
   "metadata": {},
   "outputs": [
    {
     "data": {
      "text/plain": [
       "255    Maharashtra\n",
       "Name: STATE, dtype: object"
      ]
     },
     "execution_count": 24,
     "metadata": {},
     "output_type": "execute_result"
    }
   ],
   "source": [
    "elec['STATE'][elec.CONSTITUENCY==\"Maval\"]"
   ]
  },
  {
   "cell_type": "code",
   "execution_count": 25,
   "metadata": {},
   "outputs": [
    {
     "name": "stderr",
     "output_type": "stream",
     "text": [
      "C:\\Users\\USER\\Documents\\temp\\lib\\site-packages\\ipykernel_launcher.py:1: UserWarning: Boolean Series key will be reindexed to match DataFrame index.\n",
      "  \"\"\"Entry point for launching an IPython kernel.\n"
     ]
    },
    {
     "data": {
      "text/html": [
       "<div>\n",
       "<style scoped>\n",
       "    .dataframe tbody tr th:only-of-type {\n",
       "        vertical-align: middle;\n",
       "    }\n",
       "\n",
       "    .dataframe tbody tr th {\n",
       "        vertical-align: top;\n",
       "    }\n",
       "\n",
       "    .dataframe thead th {\n",
       "        text-align: right;\n",
       "    }\n",
       "</style>\n",
       "<table border=\"1\" class=\"dataframe\">\n",
       "  <thead>\n",
       "    <tr style=\"text-align: right;\">\n",
       "      <th></th>\n",
       "      <th>STATE</th>\n",
       "      <th>POLL_PERCENTAGE</th>\n",
       "    </tr>\n",
       "  </thead>\n",
       "  <tbody>\n",
       "    <tr>\n",
       "      <th>86</th>\n",
       "      <td>Bihar</td>\n",
       "      <td>47.23</td>\n",
       "    </tr>\n",
       "    <tr>\n",
       "      <th>87</th>\n",
       "      <td>Bihar</td>\n",
       "      <td>45.36</td>\n",
       "    </tr>\n",
       "    <tr>\n",
       "      <th>89</th>\n",
       "      <td>Bihar</td>\n",
       "      <td>48.96</td>\n",
       "    </tr>\n",
       "    <tr>\n",
       "      <th>195</th>\n",
       "      <td>Madhya Pradesh</td>\n",
       "      <td>45.58</td>\n",
       "    </tr>\n",
       "    <tr>\n",
       "      <th>246</th>\n",
       "      <td>Maharashtra</td>\n",
       "      <td>42.94</td>\n",
       "    </tr>\n",
       "    <tr>\n",
       "      <th>251</th>\n",
       "      <td>Maharashtra</td>\n",
       "      <td>48.67</td>\n",
       "    </tr>\n",
       "    <tr>\n",
       "      <th>444</th>\n",
       "      <td>Uttar Pradesh</td>\n",
       "      <td>49.88</td>\n",
       "    </tr>\n",
       "  </tbody>\n",
       "</table>\n",
       "</div>"
      ],
      "text/plain": [
       "              STATE  POLL_PERCENTAGE\n",
       "86            Bihar            47.23\n",
       "87            Bihar            45.36\n",
       "89            Bihar            48.96\n",
       "195  Madhya Pradesh            45.58\n",
       "246     Maharashtra            42.94\n",
       "251     Maharashtra            48.67\n",
       "444   Uttar Pradesh            49.88"
      ]
     },
     "execution_count": 25,
     "metadata": {},
     "output_type": "execute_result"
    }
   ],
   "source": [
    "elec[['STATE','POLL_PERCENTAGE']] [elec.POLL_PERCENTAGE>40] [elec.POLL_PERCENTAGE<50]"
   ]
  },
  {
   "cell_type": "code",
   "execution_count": null,
   "metadata": {},
   "outputs": [],
   "source": []
  }
 ],
 "metadata": {
  "kernelspec": {
   "display_name": "Python 3",
   "language": "python",
   "name": "python3"
  },
  "language_info": {
   "codemirror_mode": {
    "name": "ipython",
    "version": 3
   },
   "file_extension": ".py",
   "mimetype": "text/x-python",
   "name": "python",
   "nbconvert_exporter": "python",
   "pygments_lexer": "ipython3",
   "version": "3.7.3"
  }
 },
 "nbformat": 4,
 "nbformat_minor": 2
}
